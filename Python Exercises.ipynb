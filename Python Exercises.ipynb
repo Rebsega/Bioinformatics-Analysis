{
 "cells": [
  {
   "cell_type": "code",
   "execution_count": 2,
   "metadata": {},
   "outputs": [],
   "source": [
    "#Python Exercise\n",
    "#Authors:\n",
    "#Clara Alves Coelho\n",
    "#Renan Barbieri Segamarchi"
   ]
  },
  {
   "cell_type": "code",
   "execution_count": 113,
   "metadata": {},
   "outputs": [],
   "source": [
    "import pandas as pd\n",
    "import numpy as np"
   ]
  },
  {
   "cell_type": "code",
   "execution_count": 119,
   "metadata": {},
   "outputs": [
    {
     "name": "stdout",
     "output_type": "stream",
     "text": [
      "C:  0\n",
      "G:  0\n",
      "GC content = 0 nucleotides\n",
      "Total:  0\n"
     ]
    },
    {
     "ename": "ZeroDivisionError",
     "evalue": "division by zero",
     "output_type": "error",
     "traceback": [
      "\u001b[1;31m---------------------------------------------------------------------------\u001b[0m",
      "\u001b[1;31mZeroDivisionError\u001b[0m                         Traceback (most recent call last)",
      "\u001b[1;32m<ipython-input-119-b159af4cf64a>\u001b[0m in \u001b[0;36m<module>\u001b[1;34m\u001b[0m\n\u001b[0;32m     16\u001b[0m \u001b[0mprint\u001b[0m\u001b[1;33m(\u001b[0m\u001b[1;34m\"GC content =\"\u001b[0m\u001b[1;33m,\u001b[0m\u001b[0mGCcont\u001b[0m\u001b[1;33m,\u001b[0m\u001b[1;34m\"nucleotides\"\u001b[0m\u001b[1;33m)\u001b[0m\u001b[1;33m\u001b[0m\u001b[1;33m\u001b[0m\u001b[0m\n\u001b[0;32m     17\u001b[0m \u001b[0mprint\u001b[0m\u001b[1;33m(\u001b[0m\u001b[1;34m\"Total: \"\u001b[0m\u001b[1;33m,\u001b[0m\u001b[0mconttot\u001b[0m\u001b[1;33m)\u001b[0m\u001b[1;33m\u001b[0m\u001b[1;33m\u001b[0m\u001b[0m\n\u001b[1;32m---> 18\u001b[1;33m \u001b[0mpropor\u001b[0m \u001b[1;33m=\u001b[0m \u001b[0mGCcont\u001b[0m\u001b[1;33m/\u001b[0m\u001b[0mconttot\u001b[0m\u001b[1;33m\u001b[0m\u001b[1;33m\u001b[0m\u001b[0m\n\u001b[0m\u001b[0;32m     19\u001b[0m \u001b[0mprint\u001b[0m\u001b[1;33m(\u001b[0m\u001b[1;34m\"GC Proportion = \"\u001b[0m\u001b[1;33m,\u001b[0m\u001b[0mpropor\u001b[0m\u001b[1;33m,\u001b[0m \u001b[1;34m\"or\"\u001b[0m\u001b[1;33m,\u001b[0m\u001b[0mpropor\u001b[0m\u001b[1;33m*\u001b[0m\u001b[1;36m100\u001b[0m\u001b[1;33m,\u001b[0m\u001b[1;34m\"%\"\u001b[0m\u001b[1;33m)\u001b[0m\u001b[1;33m\u001b[0m\u001b[1;33m\u001b[0m\u001b[0m\n",
      "\u001b[1;31mZeroDivisionError\u001b[0m: division by zero"
     ]
    }
   ],
   "source": [
    "with open('Python/Datasets/gene_S_Brazil.txt', 'r') as arquivo:\n",
    "    encod = arquivo.read()\n",
    "#print(encod.count('A'))\n",
    "contadorC=0\n",
    "contadorG=0\n",
    "conttot=0\n",
    "for frase in encod:\n",
    "    if frase == 'C' in encod:\n",
    "        contadorC = contadorC+1\n",
    "    elif frase == 'G' in encod:\n",
    "        contadorG = contadorG+1\n",
    "    conttot = conttot+1\n",
    "GCcont = contadorC + contadorG\n",
    "print(\"C: \",contadorC)\n",
    "print(\"G: \",contadorG)\n",
    "print(\"GC content =\",GCcont,\"nucleotides\")\n",
    "print(\"Total: \",conttot)\n",
    "propor = GCcont/conttot\n",
    "print(\"GC Proportion = \",propor, \"or\",propor*100,\"%\")"
   ]
  },
  {
   "cell_type": "code",
   "execution_count": 111,
   "metadata": {},
   "outputs": [
    {
     "name": "stdout",
     "output_type": "stream",
     "text": [
      "C:  0\n",
      "G:  0\n",
      "GC content = 0 nucleotides\n",
      "Total:  0\n"
     ]
    },
    {
     "ename": "ZeroDivisionError",
     "evalue": "division by zero",
     "output_type": "error",
     "traceback": [
      "\u001b[1;31m---------------------------------------------------------------------------\u001b[0m",
      "\u001b[1;31mZeroDivisionError\u001b[0m                         Traceback (most recent call last)",
      "\u001b[1;32m<ipython-input-111-b159af4cf64a>\u001b[0m in \u001b[0;36m<module>\u001b[1;34m\u001b[0m\n\u001b[0;32m     16\u001b[0m \u001b[0mprint\u001b[0m\u001b[1;33m(\u001b[0m\u001b[1;34m\"GC content =\"\u001b[0m\u001b[1;33m,\u001b[0m\u001b[0mGCcont\u001b[0m\u001b[1;33m,\u001b[0m\u001b[1;34m\"nucleotides\"\u001b[0m\u001b[1;33m)\u001b[0m\u001b[1;33m\u001b[0m\u001b[1;33m\u001b[0m\u001b[0m\n\u001b[0;32m     17\u001b[0m \u001b[0mprint\u001b[0m\u001b[1;33m(\u001b[0m\u001b[1;34m\"Total: \"\u001b[0m\u001b[1;33m,\u001b[0m\u001b[0mconttot\u001b[0m\u001b[1;33m)\u001b[0m\u001b[1;33m\u001b[0m\u001b[1;33m\u001b[0m\u001b[0m\n\u001b[1;32m---> 18\u001b[1;33m \u001b[0mpropor\u001b[0m \u001b[1;33m=\u001b[0m \u001b[0mGCcont\u001b[0m\u001b[1;33m/\u001b[0m\u001b[0mconttot\u001b[0m\u001b[1;33m\u001b[0m\u001b[1;33m\u001b[0m\u001b[0m\n\u001b[0m\u001b[0;32m     19\u001b[0m \u001b[0mprint\u001b[0m\u001b[1;33m(\u001b[0m\u001b[1;34m\"GC Proportion = \"\u001b[0m\u001b[1;33m,\u001b[0m\u001b[0mpropor\u001b[0m\u001b[1;33m,\u001b[0m \u001b[1;34m\"or\"\u001b[0m\u001b[1;33m,\u001b[0m\u001b[0mpropor\u001b[0m\u001b[1;33m*\u001b[0m\u001b[1;36m100\u001b[0m\u001b[1;33m,\u001b[0m\u001b[1;34m\"%\"\u001b[0m\u001b[1;33m)\u001b[0m\u001b[1;33m\u001b[0m\u001b[1;33m\u001b[0m\u001b[0m\n",
      "\u001b[1;31mZeroDivisionError\u001b[0m: division by zero"
     ]
    }
   ],
   "source": [
    "with open('Python/Datasets/gene_S_Brazil.txt', 'r') as arquivo:\n",
    "    encod = arquivo.read()\n",
    "#print(encod.count('A'))\n",
    "contadorC=0\n",
    "contadorG=0\n",
    "conttot=0\n",
    "for frase in encod:\n",
    "    if frase == 'C' in encod:\n",
    "        contadorC = contadorC+1\n",
    "    elif frase == 'G' in encod:\n",
    "        contadorG = contadorG+1\n",
    "    conttot = conttot+1\n",
    "GCcont = contadorC + contadorG\n",
    "print(\"C: \",contadorC)\n",
    "print(\"G: \",contadorG)\n",
    "print(\"GC content =\",GCcont,\"nucleotides\")\n",
    "print(\"Total: \",conttot)\n",
    "propor = GCcont/conttot\n",
    "print(\"GC Proportion = \",propor, \"or\",propor*100,\"%\")"
   ]
  }
 ],
 "metadata": {
  "kernelspec": {
   "display_name": "Python 3",
   "language": "python",
   "name": "python3"
  },
  "language_info": {
   "codemirror_mode": {
    "name": "ipython",
    "version": 3
   },
   "file_extension": ".py",
   "mimetype": "text/x-python",
   "name": "python",
   "nbconvert_exporter": "python",
   "pygments_lexer": "ipython3",
   "version": "3.8.5"
  }
 },
 "nbformat": 4,
 "nbformat_minor": 4
}
